{
 "cells": [
  {
   "cell_type": "code",
   "execution_count": 5,
   "id": "80889f26-b1da-4baa-adf2-8e71bb2a33d6",
   "metadata": {},
   "outputs": [],
   "source": [
    "def f(x):\n",
    "    return x.x"
   ]
  },
  {
   "cell_type": "code",
   "execution_count": null,
   "id": "a1bb12ff-68ca-490d-87dc-d5af82db0df7",
   "metadata": {},
   "outputs": [],
   "source": [
    "def f(x):\n",
    "    return x**2"
   ]
  },
  {
   "cell_type": "code",
   "execution_count": null,
   "id": "8a71bcaa-cb83-44aa-8009-3d90deced4f7",
   "metadata": {},
   "outputs": [],
   "source": [
    "def f(\"a\"):\n",
    "    return \"a\""
   ]
  },
  {
   "cell_type": "code",
   "execution_count": null,
   "id": "d13c486c-c404-4e14-b13e-7584d24ae63a",
   "metadata": {},
   "outputs": [],
   "source": [
    "def f2(y):\n",
    "    return 'y"
   ]
  },
  {
   "cell_type": "code",
   "execution_count": 16,
   "id": "e61b97eb-afcb-4462-9475-2cd7908154d9",
   "metadata": {},
   "outputs": [],
   "source": [
    "def f3(y: str) -> str:\n",
    "    return y"
   ]
  },
  {
   "cell_type": "code",
   "execution_count": 10,
   "id": "8550c147-2c28-43a9-b7f7-7221f01821e9",
   "metadata": {},
   "outputs": [],
   "source": [
    "t=[1,2,3]\n"
   ]
  },
  {
   "cell_type": "code",
   "execution_count": 11,
   "id": "aede63f4-437e-4314-8ef8-3407538ba740",
   "metadata": {},
   "outputs": [
    {
     "data": {
      "text/plain": [
       "2"
      ]
     },
     "execution_count": 11,
     "metadata": {},
     "output_type": "execute_result"
    }
   ],
   "source": [
    "t[1]\n"
   ]
  },
  {
   "cell_type": "code",
   "execution_count": 12,
   "id": "546340e1-793b-430a-96f8-e14d5e05bf76",
   "metadata": {},
   "outputs": [
    {
     "data": {
      "text/plain": [
       "3"
      ]
     },
     "execution_count": 12,
     "metadata": {},
     "output_type": "execute_result"
    }
   ],
   "source": [
    "t[2]"
   ]
  },
  {
   "cell_type": "code",
   "execution_count": 13,
   "id": "cc4bf96f-d1a0-4215-8065-bc014985200e",
   "metadata": {},
   "outputs": [
    {
     "data": {
      "text/plain": [
       "3"
      ]
     },
     "execution_count": 13,
     "metadata": {},
     "output_type": "execute_result"
    }
   ],
   "source": [
    "t[-1]"
   ]
  },
  {
   "cell_type": "code",
   "execution_count": 14,
   "id": "c0b25735-9bd2-4ea9-9a2b-e278a24ff80e",
   "metadata": {},
   "outputs": [
    {
     "data": {
      "text/plain": [
       "2"
      ]
     },
     "execution_count": 14,
     "metadata": {},
     "output_type": "execute_result"
    }
   ],
   "source": [
    "t[-2]"
   ]
  },
  {
   "cell_type": "code",
   "execution_count": 19,
   "id": "442480f9-91c5-484e-ae78-b2813b089c0c",
   "metadata": {},
   "outputs": [],
   "source": [
    "t.append(4)"
   ]
  },
  {
   "cell_type": "code",
   "execution_count": 20,
   "id": "1987866d-70c8-4d74-9dca-329fe145468c",
   "metadata": {},
   "outputs": [
    {
     "name": "stdout",
     "output_type": "stream",
     "text": [
      "[1, 2, 3, 4, 4]\n"
     ]
    }
   ],
   "source": [
    "print(t)"
   ]
  },
  {
   "cell_type": "code",
   "execution_count": null,
   "id": "a58c1f73-fbf0-4356-9a16-39fece0c2223",
   "metadata": {},
   "outputs": [],
   "source": []
  }
 ],
 "metadata": {
  "kernelspec": {
   "display_name": "Python 3 (ipykernel)",
   "language": "python",
   "name": "python3"
  },
  "language_info": {
   "codemirror_mode": {
    "name": "ipython",
    "version": 3
   },
   "file_extension": ".py",
   "mimetype": "text/x-python",
   "name": "python",
   "nbconvert_exporter": "python",
   "pygments_lexer": "ipython3",
   "version": "3.11.9"
  }
 },
 "nbformat": 4,
 "nbformat_minor": 5
}
